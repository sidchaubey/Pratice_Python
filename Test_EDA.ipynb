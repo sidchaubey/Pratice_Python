{
  "nbformat": 4,
  "nbformat_minor": 0,
  "metadata": {
    "colab": {
      "name": "Test_EDA.ipynb",
      "provenance": [],
      "include_colab_link": true
    },
    "kernelspec": {
      "name": "python3",
      "display_name": "Python 3"
    },
    "language_info": {
      "name": "python"
    }
  },
  "cells": [
    {
      "cell_type": "markdown",
      "metadata": {
        "id": "view-in-github",
        "colab_type": "text"
      },
      "source": [
        "<a href=\"https://colab.research.google.com/github/sidchaubey/Pratice_Python/blob/master/Test_EDA.ipynb\" target=\"_parent\"><img src=\"https://colab.research.google.com/assets/colab-badge.svg\" alt=\"Open In Colab\"/></a>"
      ]
    },
    {
      "cell_type": "code",
      "metadata": {
        "id": "VQSiK5N1mUNj",
        "colab": {
          "base_uri": "https://localhost:8080/"
        },
        "outputId": "bc56db12-0591-40f7-bd4a-ae8322a91eef"
      },
      "source": [
        "!pip install pmdarima"
      ],
      "execution_count": 1,
      "outputs": [
        {
          "output_type": "stream",
          "text": [
            "Collecting pmdarima\n",
            "\u001b[?25l  Downloading https://files.pythonhosted.org/packages/f4/c2/2a94bce6bba1deac3c0b16dbb14f28de0b9035e3211919cae8448455aa65/pmdarima-1.8.2-cp37-cp37m-manylinux1_x86_64.whl (1.5MB)\n",
            "\u001b[K     |████████████████████████████████| 1.5MB 8.2MB/s \n",
            "\u001b[?25hRequirement already satisfied: pandas>=0.19 in /usr/local/lib/python3.7/dist-packages (from pmdarima) (1.1.5)\n",
            "Requirement already satisfied: numpy~=1.19.0 in /usr/local/lib/python3.7/dist-packages (from pmdarima) (1.19.5)\n",
            "Requirement already satisfied: Cython!=0.29.18,>=0.29 in /usr/local/lib/python3.7/dist-packages (from pmdarima) (0.29.23)\n",
            "Collecting statsmodels!=0.12.0,>=0.11\n",
            "\u001b[?25l  Downloading https://files.pythonhosted.org/packages/da/69/8eef30a6237c54f3c0b524140e2975f4b1eea3489b45eb3339574fc8acee/statsmodels-0.12.2-cp37-cp37m-manylinux1_x86_64.whl (9.5MB)\n",
            "\u001b[K     |████████████████████████████████| 9.5MB 50.4MB/s \n",
            "\u001b[?25hRequirement already satisfied: joblib>=0.11 in /usr/local/lib/python3.7/dist-packages (from pmdarima) (1.0.1)\n",
            "Requirement already satisfied: scipy>=1.3.2 in /usr/local/lib/python3.7/dist-packages (from pmdarima) (1.4.1)\n",
            "Requirement already satisfied: setuptools!=50.0.0,>=38.6.0 in /usr/local/lib/python3.7/dist-packages (from pmdarima) (57.0.0)\n",
            "Requirement already satisfied: scikit-learn>=0.22 in /usr/local/lib/python3.7/dist-packages (from pmdarima) (0.22.2.post1)\n",
            "Requirement already satisfied: urllib3 in /usr/local/lib/python3.7/dist-packages (from pmdarima) (1.24.3)\n",
            "Requirement already satisfied: pytz>=2017.2 in /usr/local/lib/python3.7/dist-packages (from pandas>=0.19->pmdarima) (2018.9)\n",
            "Requirement already satisfied: python-dateutil>=2.7.3 in /usr/local/lib/python3.7/dist-packages (from pandas>=0.19->pmdarima) (2.8.1)\n",
            "Requirement already satisfied: patsy>=0.5 in /usr/local/lib/python3.7/dist-packages (from statsmodels!=0.12.0,>=0.11->pmdarima) (0.5.1)\n",
            "Requirement already satisfied: six>=1.5 in /usr/local/lib/python3.7/dist-packages (from python-dateutil>=2.7.3->pandas>=0.19->pmdarima) (1.15.0)\n",
            "Installing collected packages: statsmodels, pmdarima\n",
            "  Found existing installation: statsmodels 0.10.2\n",
            "    Uninstalling statsmodels-0.10.2:\n",
            "      Successfully uninstalled statsmodels-0.10.2\n",
            "Successfully installed pmdarima-1.8.2 statsmodels-0.12.2\n"
          ],
          "name": "stdout"
        }
      ]
    },
    {
      "cell_type": "code",
      "metadata": {
        "id": "1axX6kvLaEwU"
      },
      "source": [
        "import numpy as np\n",
        "import pandas as pd\n",
        "import seaborn as sns\n",
        "import matplotlib.pyplot as plt\n",
        "import datetime\n",
        "import statsmodels.api as sm\n",
        "from pylab import rcParams\n",
        "import pmdarima\n",
        "from statsmodels.tsa.statespace import sarimax"
      ],
      "execution_count": 2,
      "outputs": []
    },
    {
      "cell_type": "code",
      "metadata": {
        "colab": {
          "base_uri": "https://localhost:8080/"
        },
        "id": "MfKlVCH1aTPy",
        "outputId": "20fdb42e-a02e-408e-d720-bb64ae34bffe"
      },
      "source": [
        "sns.get_dataset_names()"
      ],
      "execution_count": 3,
      "outputs": [
        {
          "output_type": "execute_result",
          "data": {
            "text/plain": [
              "['anagrams',\n",
              " 'anscombe',\n",
              " 'attention',\n",
              " 'brain_networks',\n",
              " 'car_crashes',\n",
              " 'diamonds',\n",
              " 'dots',\n",
              " 'exercise',\n",
              " 'flights',\n",
              " 'fmri',\n",
              " 'gammas',\n",
              " 'geyser',\n",
              " 'iris',\n",
              " 'mpg',\n",
              " 'penguins',\n",
              " 'planets',\n",
              " 'tips',\n",
              " 'titanic']"
            ]
          },
          "metadata": {
            "tags": []
          },
          "execution_count": 3
        }
      ]
    },
    {
      "cell_type": "code",
      "metadata": {
        "colab": {
          "base_uri": "https://localhost:8080/",
          "height": 206
        },
        "id": "RAp_pGN_ab7W",
        "outputId": "6ad95211-ad61-41f9-9db4-520777c44346"
      },
      "source": [
        "dataset = sns.load_dataset(\"flights\")\n",
        "dataset.head()"
      ],
      "execution_count": 4,
      "outputs": [
        {
          "output_type": "execute_result",
          "data": {
            "text/html": [
              "<div>\n",
              "<style scoped>\n",
              "    .dataframe tbody tr th:only-of-type {\n",
              "        vertical-align: middle;\n",
              "    }\n",
              "\n",
              "    .dataframe tbody tr th {\n",
              "        vertical-align: top;\n",
              "    }\n",
              "\n",
              "    .dataframe thead th {\n",
              "        text-align: right;\n",
              "    }\n",
              "</style>\n",
              "<table border=\"1\" class=\"dataframe\">\n",
              "  <thead>\n",
              "    <tr style=\"text-align: right;\">\n",
              "      <th></th>\n",
              "      <th>year</th>\n",
              "      <th>month</th>\n",
              "      <th>passengers</th>\n",
              "    </tr>\n",
              "  </thead>\n",
              "  <tbody>\n",
              "    <tr>\n",
              "      <th>0</th>\n",
              "      <td>1949</td>\n",
              "      <td>Jan</td>\n",
              "      <td>112</td>\n",
              "    </tr>\n",
              "    <tr>\n",
              "      <th>1</th>\n",
              "      <td>1949</td>\n",
              "      <td>Feb</td>\n",
              "      <td>118</td>\n",
              "    </tr>\n",
              "    <tr>\n",
              "      <th>2</th>\n",
              "      <td>1949</td>\n",
              "      <td>Mar</td>\n",
              "      <td>132</td>\n",
              "    </tr>\n",
              "    <tr>\n",
              "      <th>3</th>\n",
              "      <td>1949</td>\n",
              "      <td>Apr</td>\n",
              "      <td>129</td>\n",
              "    </tr>\n",
              "    <tr>\n",
              "      <th>4</th>\n",
              "      <td>1949</td>\n",
              "      <td>May</td>\n",
              "      <td>121</td>\n",
              "    </tr>\n",
              "  </tbody>\n",
              "</table>\n",
              "</div>"
            ],
            "text/plain": [
              "   year month  passengers\n",
              "0  1949   Jan         112\n",
              "1  1949   Feb         118\n",
              "2  1949   Mar         132\n",
              "3  1949   Apr         129\n",
              "4  1949   May         121"
            ]
          },
          "metadata": {
            "tags": []
          },
          "execution_count": 4
        }
      ]
    },
    {
      "cell_type": "code",
      "metadata": {
        "colab": {
          "base_uri": "https://localhost:8080/"
        },
        "id": "F7R8kCPHas4y",
        "outputId": "d9446b6c-d47b-45d2-b008-24d94c04ef7d"
      },
      "source": [
        "dataset.shape"
      ],
      "execution_count": 5,
      "outputs": [
        {
          "output_type": "execute_result",
          "data": {
            "text/plain": [
              "(144, 3)"
            ]
          },
          "metadata": {
            "tags": []
          },
          "execution_count": 5
        }
      ]
    },
    {
      "cell_type": "code",
      "metadata": {
        "colab": {
          "base_uri": "https://localhost:8080/"
        },
        "id": "X2HAp1eeawCB",
        "outputId": "822d467b-02c8-425b-c5b2-505e2fd0e437"
      },
      "source": [
        "dataset.info()"
      ],
      "execution_count": 6,
      "outputs": [
        {
          "output_type": "stream",
          "text": [
            "<class 'pandas.core.frame.DataFrame'>\n",
            "RangeIndex: 144 entries, 0 to 143\n",
            "Data columns (total 3 columns):\n",
            " #   Column      Non-Null Count  Dtype   \n",
            "---  ------      --------------  -----   \n",
            " 0   year        144 non-null    int64   \n",
            " 1   month       144 non-null    category\n",
            " 2   passengers  144 non-null    int64   \n",
            "dtypes: category(1), int64(2)\n",
            "memory usage: 2.9 KB\n"
          ],
          "name": "stdout"
        }
      ]
    },
    {
      "cell_type": "code",
      "metadata": {
        "colab": {
          "base_uri": "https://localhost:8080/",
          "height": 300
        },
        "id": "IksF8lzqazYN",
        "outputId": "7d7c25e8-b2ec-4087-9ef4-f50d3735f8e9"
      },
      "source": [
        "dataset.describe()"
      ],
      "execution_count": 7,
      "outputs": [
        {
          "output_type": "execute_result",
          "data": {
            "text/html": [
              "<div>\n",
              "<style scoped>\n",
              "    .dataframe tbody tr th:only-of-type {\n",
              "        vertical-align: middle;\n",
              "    }\n",
              "\n",
              "    .dataframe tbody tr th {\n",
              "        vertical-align: top;\n",
              "    }\n",
              "\n",
              "    .dataframe thead th {\n",
              "        text-align: right;\n",
              "    }\n",
              "</style>\n",
              "<table border=\"1\" class=\"dataframe\">\n",
              "  <thead>\n",
              "    <tr style=\"text-align: right;\">\n",
              "      <th></th>\n",
              "      <th>year</th>\n",
              "      <th>passengers</th>\n",
              "    </tr>\n",
              "  </thead>\n",
              "  <tbody>\n",
              "    <tr>\n",
              "      <th>count</th>\n",
              "      <td>144.000000</td>\n",
              "      <td>144.000000</td>\n",
              "    </tr>\n",
              "    <tr>\n",
              "      <th>mean</th>\n",
              "      <td>1954.500000</td>\n",
              "      <td>280.298611</td>\n",
              "    </tr>\n",
              "    <tr>\n",
              "      <th>std</th>\n",
              "      <td>3.464102</td>\n",
              "      <td>119.966317</td>\n",
              "    </tr>\n",
              "    <tr>\n",
              "      <th>min</th>\n",
              "      <td>1949.000000</td>\n",
              "      <td>104.000000</td>\n",
              "    </tr>\n",
              "    <tr>\n",
              "      <th>25%</th>\n",
              "      <td>1951.750000</td>\n",
              "      <td>180.000000</td>\n",
              "    </tr>\n",
              "    <tr>\n",
              "      <th>50%</th>\n",
              "      <td>1954.500000</td>\n",
              "      <td>265.500000</td>\n",
              "    </tr>\n",
              "    <tr>\n",
              "      <th>75%</th>\n",
              "      <td>1957.250000</td>\n",
              "      <td>360.500000</td>\n",
              "    </tr>\n",
              "    <tr>\n",
              "      <th>max</th>\n",
              "      <td>1960.000000</td>\n",
              "      <td>622.000000</td>\n",
              "    </tr>\n",
              "  </tbody>\n",
              "</table>\n",
              "</div>"
            ],
            "text/plain": [
              "              year  passengers\n",
              "count   144.000000  144.000000\n",
              "mean   1954.500000  280.298611\n",
              "std       3.464102  119.966317\n",
              "min    1949.000000  104.000000\n",
              "25%    1951.750000  180.000000\n",
              "50%    1954.500000  265.500000\n",
              "75%    1957.250000  360.500000\n",
              "max    1960.000000  622.000000"
            ]
          },
          "metadata": {
            "tags": []
          },
          "execution_count": 7
        }
      ]
    },
    {
      "cell_type": "code",
      "metadata": {
        "colab": {
          "base_uri": "https://localhost:8080/"
        },
        "id": "3Co0d83Ca4IQ",
        "outputId": "42b164f9-d822-4134-db96-740a0deb2364"
      },
      "source": [
        "dataset.isna().any(axis=1).sum()"
      ],
      "execution_count": 8,
      "outputs": [
        {
          "output_type": "execute_result",
          "data": {
            "text/plain": [
              "0"
            ]
          },
          "metadata": {
            "tags": []
          },
          "execution_count": 8
        }
      ]
    },
    {
      "cell_type": "code",
      "metadata": {
        "colab": {
          "base_uri": "https://localhost:8080/"
        },
        "id": "8795Y9Rma9wl",
        "outputId": "ccb942e4-3ecf-483b-a6d2-5634555db258"
      },
      "source": [
        "dataset.isna().sum()"
      ],
      "execution_count": 9,
      "outputs": [
        {
          "output_type": "execute_result",
          "data": {
            "text/plain": [
              "year          0\n",
              "month         0\n",
              "passengers    0\n",
              "dtype: int64"
            ]
          },
          "metadata": {
            "tags": []
          },
          "execution_count": 9
        }
      ]
    },
    {
      "cell_type": "code",
      "metadata": {
        "colab": {
          "base_uri": "https://localhost:8080/"
        },
        "id": "SQjL5VvebJ2D",
        "outputId": "a68ad018-9344-4ecb-b620-38d06d600f34"
      },
      "source": [
        "dataset.columns"
      ],
      "execution_count": 10,
      "outputs": [
        {
          "output_type": "execute_result",
          "data": {
            "text/plain": [
              "Index(['year', 'month', 'passengers'], dtype='object')"
            ]
          },
          "metadata": {
            "tags": []
          },
          "execution_count": 10
        }
      ]
    },
    {
      "cell_type": "code",
      "metadata": {
        "colab": {
          "base_uri": "https://localhost:8080/"
        },
        "id": "h27wkyiebONb",
        "outputId": "89eb6eb9-bc7b-42b3-96d3-7d6aace8a2cb"
      },
      "source": [
        "dataset.values"
      ],
      "execution_count": 11,
      "outputs": [
        {
          "output_type": "execute_result",
          "data": {
            "text/plain": [
              "array([[1949, 'Jan', 112],\n",
              "       [1949, 'Feb', 118],\n",
              "       [1949, 'Mar', 132],\n",
              "       [1949, 'Apr', 129],\n",
              "       [1949, 'May', 121],\n",
              "       [1949, 'Jun', 135],\n",
              "       [1949, 'Jul', 148],\n",
              "       [1949, 'Aug', 148],\n",
              "       [1949, 'Sep', 136],\n",
              "       [1949, 'Oct', 119],\n",
              "       [1949, 'Nov', 104],\n",
              "       [1949, 'Dec', 118],\n",
              "       [1950, 'Jan', 115],\n",
              "       [1950, 'Feb', 126],\n",
              "       [1950, 'Mar', 141],\n",
              "       [1950, 'Apr', 135],\n",
              "       [1950, 'May', 125],\n",
              "       [1950, 'Jun', 149],\n",
              "       [1950, 'Jul', 170],\n",
              "       [1950, 'Aug', 170],\n",
              "       [1950, 'Sep', 158],\n",
              "       [1950, 'Oct', 133],\n",
              "       [1950, 'Nov', 114],\n",
              "       [1950, 'Dec', 140],\n",
              "       [1951, 'Jan', 145],\n",
              "       [1951, 'Feb', 150],\n",
              "       [1951, 'Mar', 178],\n",
              "       [1951, 'Apr', 163],\n",
              "       [1951, 'May', 172],\n",
              "       [1951, 'Jun', 178],\n",
              "       [1951, 'Jul', 199],\n",
              "       [1951, 'Aug', 199],\n",
              "       [1951, 'Sep', 184],\n",
              "       [1951, 'Oct', 162],\n",
              "       [1951, 'Nov', 146],\n",
              "       [1951, 'Dec', 166],\n",
              "       [1952, 'Jan', 171],\n",
              "       [1952, 'Feb', 180],\n",
              "       [1952, 'Mar', 193],\n",
              "       [1952, 'Apr', 181],\n",
              "       [1952, 'May', 183],\n",
              "       [1952, 'Jun', 218],\n",
              "       [1952, 'Jul', 230],\n",
              "       [1952, 'Aug', 242],\n",
              "       [1952, 'Sep', 209],\n",
              "       [1952, 'Oct', 191],\n",
              "       [1952, 'Nov', 172],\n",
              "       [1952, 'Dec', 194],\n",
              "       [1953, 'Jan', 196],\n",
              "       [1953, 'Feb', 196],\n",
              "       [1953, 'Mar', 236],\n",
              "       [1953, 'Apr', 235],\n",
              "       [1953, 'May', 229],\n",
              "       [1953, 'Jun', 243],\n",
              "       [1953, 'Jul', 264],\n",
              "       [1953, 'Aug', 272],\n",
              "       [1953, 'Sep', 237],\n",
              "       [1953, 'Oct', 211],\n",
              "       [1953, 'Nov', 180],\n",
              "       [1953, 'Dec', 201],\n",
              "       [1954, 'Jan', 204],\n",
              "       [1954, 'Feb', 188],\n",
              "       [1954, 'Mar', 235],\n",
              "       [1954, 'Apr', 227],\n",
              "       [1954, 'May', 234],\n",
              "       [1954, 'Jun', 264],\n",
              "       [1954, 'Jul', 302],\n",
              "       [1954, 'Aug', 293],\n",
              "       [1954, 'Sep', 259],\n",
              "       [1954, 'Oct', 229],\n",
              "       [1954, 'Nov', 203],\n",
              "       [1954, 'Dec', 229],\n",
              "       [1955, 'Jan', 242],\n",
              "       [1955, 'Feb', 233],\n",
              "       [1955, 'Mar', 267],\n",
              "       [1955, 'Apr', 269],\n",
              "       [1955, 'May', 270],\n",
              "       [1955, 'Jun', 315],\n",
              "       [1955, 'Jul', 364],\n",
              "       [1955, 'Aug', 347],\n",
              "       [1955, 'Sep', 312],\n",
              "       [1955, 'Oct', 274],\n",
              "       [1955, 'Nov', 237],\n",
              "       [1955, 'Dec', 278],\n",
              "       [1956, 'Jan', 284],\n",
              "       [1956, 'Feb', 277],\n",
              "       [1956, 'Mar', 317],\n",
              "       [1956, 'Apr', 313],\n",
              "       [1956, 'May', 318],\n",
              "       [1956, 'Jun', 374],\n",
              "       [1956, 'Jul', 413],\n",
              "       [1956, 'Aug', 405],\n",
              "       [1956, 'Sep', 355],\n",
              "       [1956, 'Oct', 306],\n",
              "       [1956, 'Nov', 271],\n",
              "       [1956, 'Dec', 306],\n",
              "       [1957, 'Jan', 315],\n",
              "       [1957, 'Feb', 301],\n",
              "       [1957, 'Mar', 356],\n",
              "       [1957, 'Apr', 348],\n",
              "       [1957, 'May', 355],\n",
              "       [1957, 'Jun', 422],\n",
              "       [1957, 'Jul', 465],\n",
              "       [1957, 'Aug', 467],\n",
              "       [1957, 'Sep', 404],\n",
              "       [1957, 'Oct', 347],\n",
              "       [1957, 'Nov', 305],\n",
              "       [1957, 'Dec', 336],\n",
              "       [1958, 'Jan', 340],\n",
              "       [1958, 'Feb', 318],\n",
              "       [1958, 'Mar', 362],\n",
              "       [1958, 'Apr', 348],\n",
              "       [1958, 'May', 363],\n",
              "       [1958, 'Jun', 435],\n",
              "       [1958, 'Jul', 491],\n",
              "       [1958, 'Aug', 505],\n",
              "       [1958, 'Sep', 404],\n",
              "       [1958, 'Oct', 359],\n",
              "       [1958, 'Nov', 310],\n",
              "       [1958, 'Dec', 337],\n",
              "       [1959, 'Jan', 360],\n",
              "       [1959, 'Feb', 342],\n",
              "       [1959, 'Mar', 406],\n",
              "       [1959, 'Apr', 396],\n",
              "       [1959, 'May', 420],\n",
              "       [1959, 'Jun', 472],\n",
              "       [1959, 'Jul', 548],\n",
              "       [1959, 'Aug', 559],\n",
              "       [1959, 'Sep', 463],\n",
              "       [1959, 'Oct', 407],\n",
              "       [1959, 'Nov', 362],\n",
              "       [1959, 'Dec', 405],\n",
              "       [1960, 'Jan', 417],\n",
              "       [1960, 'Feb', 391],\n",
              "       [1960, 'Mar', 419],\n",
              "       [1960, 'Apr', 461],\n",
              "       [1960, 'May', 472],\n",
              "       [1960, 'Jun', 535],\n",
              "       [1960, 'Jul', 622],\n",
              "       [1960, 'Aug', 606],\n",
              "       [1960, 'Sep', 508],\n",
              "       [1960, 'Oct', 461],\n",
              "       [1960, 'Nov', 390],\n",
              "       [1960, 'Dec', 432]], dtype=object)"
            ]
          },
          "metadata": {
            "tags": []
          },
          "execution_count": 11
        }
      ]
    },
    {
      "cell_type": "code",
      "metadata": {
        "colab": {
          "base_uri": "https://localhost:8080/"
        },
        "id": "5Q5RUb4TbRXu",
        "outputId": "b7443857-143e-4135-bb6c-5479d3df7294"
      },
      "source": [
        "dataset[[\"year\"]].value_counts()"
      ],
      "execution_count": 12,
      "outputs": [
        {
          "output_type": "execute_result",
          "data": {
            "text/plain": [
              "year\n",
              "1960    12\n",
              "1959    12\n",
              "1958    12\n",
              "1957    12\n",
              "1956    12\n",
              "1955    12\n",
              "1954    12\n",
              "1953    12\n",
              "1952    12\n",
              "1951    12\n",
              "1950    12\n",
              "1949    12\n",
              "dtype: int64"
            ]
          },
          "metadata": {
            "tags": []
          },
          "execution_count": 12
        }
      ]
    },
    {
      "cell_type": "code",
      "metadata": {
        "colab": {
          "base_uri": "https://localhost:8080/"
        },
        "id": "vp1XiODubcCd",
        "outputId": "6627b8c0-827f-44c7-c254-27eb70400b2b"
      },
      "source": [
        "dataset[[\"year\"]].value_counts().sum()"
      ],
      "execution_count": 13,
      "outputs": [
        {
          "output_type": "execute_result",
          "data": {
            "text/plain": [
              "144"
            ]
          },
          "metadata": {
            "tags": []
          },
          "execution_count": 13
        }
      ]
    },
    {
      "cell_type": "code",
      "metadata": {
        "colab": {
          "base_uri": "https://localhost:8080/"
        },
        "id": "BnlDc9Cvb_Rt",
        "outputId": "926d2293-786a-44b9-9b2f-a28d6805c846"
      },
      "source": [
        "dataset.dtypes"
      ],
      "execution_count": 14,
      "outputs": [
        {
          "output_type": "execute_result",
          "data": {
            "text/plain": [
              "year             int64\n",
              "month         category\n",
              "passengers       int64\n",
              "dtype: object"
            ]
          },
          "metadata": {
            "tags": []
          },
          "execution_count": 14
        }
      ]
    },
    {
      "cell_type": "code",
      "metadata": {
        "id": "ltFt_54TcJTG"
      },
      "source": [
        "dataset[\"day\"] = \"1\""
      ],
      "execution_count": 15,
      "outputs": []
    },
    {
      "cell_type": "code",
      "metadata": {
        "colab": {
          "base_uri": "https://localhost:8080/",
          "height": 423
        },
        "id": "oaRd9PqHcj-6",
        "outputId": "163f19e5-1e81-4448-e057-741493a4727b"
      },
      "source": [
        "dataset"
      ],
      "execution_count": 16,
      "outputs": [
        {
          "output_type": "execute_result",
          "data": {
            "text/html": [
              "<div>\n",
              "<style scoped>\n",
              "    .dataframe tbody tr th:only-of-type {\n",
              "        vertical-align: middle;\n",
              "    }\n",
              "\n",
              "    .dataframe tbody tr th {\n",
              "        vertical-align: top;\n",
              "    }\n",
              "\n",
              "    .dataframe thead th {\n",
              "        text-align: right;\n",
              "    }\n",
              "</style>\n",
              "<table border=\"1\" class=\"dataframe\">\n",
              "  <thead>\n",
              "    <tr style=\"text-align: right;\">\n",
              "      <th></th>\n",
              "      <th>year</th>\n",
              "      <th>month</th>\n",
              "      <th>passengers</th>\n",
              "      <th>day</th>\n",
              "    </tr>\n",
              "  </thead>\n",
              "  <tbody>\n",
              "    <tr>\n",
              "      <th>0</th>\n",
              "      <td>1949</td>\n",
              "      <td>Jan</td>\n",
              "      <td>112</td>\n",
              "      <td>1</td>\n",
              "    </tr>\n",
              "    <tr>\n",
              "      <th>1</th>\n",
              "      <td>1949</td>\n",
              "      <td>Feb</td>\n",
              "      <td>118</td>\n",
              "      <td>1</td>\n",
              "    </tr>\n",
              "    <tr>\n",
              "      <th>2</th>\n",
              "      <td>1949</td>\n",
              "      <td>Mar</td>\n",
              "      <td>132</td>\n",
              "      <td>1</td>\n",
              "    </tr>\n",
              "    <tr>\n",
              "      <th>3</th>\n",
              "      <td>1949</td>\n",
              "      <td>Apr</td>\n",
              "      <td>129</td>\n",
              "      <td>1</td>\n",
              "    </tr>\n",
              "    <tr>\n",
              "      <th>4</th>\n",
              "      <td>1949</td>\n",
              "      <td>May</td>\n",
              "      <td>121</td>\n",
              "      <td>1</td>\n",
              "    </tr>\n",
              "    <tr>\n",
              "      <th>...</th>\n",
              "      <td>...</td>\n",
              "      <td>...</td>\n",
              "      <td>...</td>\n",
              "      <td>...</td>\n",
              "    </tr>\n",
              "    <tr>\n",
              "      <th>139</th>\n",
              "      <td>1960</td>\n",
              "      <td>Aug</td>\n",
              "      <td>606</td>\n",
              "      <td>1</td>\n",
              "    </tr>\n",
              "    <tr>\n",
              "      <th>140</th>\n",
              "      <td>1960</td>\n",
              "      <td>Sep</td>\n",
              "      <td>508</td>\n",
              "      <td>1</td>\n",
              "    </tr>\n",
              "    <tr>\n",
              "      <th>141</th>\n",
              "      <td>1960</td>\n",
              "      <td>Oct</td>\n",
              "      <td>461</td>\n",
              "      <td>1</td>\n",
              "    </tr>\n",
              "    <tr>\n",
              "      <th>142</th>\n",
              "      <td>1960</td>\n",
              "      <td>Nov</td>\n",
              "      <td>390</td>\n",
              "      <td>1</td>\n",
              "    </tr>\n",
              "    <tr>\n",
              "      <th>143</th>\n",
              "      <td>1960</td>\n",
              "      <td>Dec</td>\n",
              "      <td>432</td>\n",
              "      <td>1</td>\n",
              "    </tr>\n",
              "  </tbody>\n",
              "</table>\n",
              "<p>144 rows × 4 columns</p>\n",
              "</div>"
            ],
            "text/plain": [
              "     year month  passengers day\n",
              "0    1949   Jan         112   1\n",
              "1    1949   Feb         118   1\n",
              "2    1949   Mar         132   1\n",
              "3    1949   Apr         129   1\n",
              "4    1949   May         121   1\n",
              "..    ...   ...         ...  ..\n",
              "139  1960   Aug         606   1\n",
              "140  1960   Sep         508   1\n",
              "141  1960   Oct         461   1\n",
              "142  1960   Nov         390   1\n",
              "143  1960   Dec         432   1\n",
              "\n",
              "[144 rows x 4 columns]"
            ]
          },
          "metadata": {
            "tags": []
          },
          "execution_count": 16
        }
      ]
    },
    {
      "cell_type": "code",
      "metadata": {
        "id": "U8RX6tERdAF6"
      },
      "source": [
        "dataset[\"combined\"] = dataset[[\"month\", \"day\", \"year\"]].apply(\n",
        "    lambda x: ' '.join(x.dropna().astype(str)),\n",
        "    axis=1\n",
        ")"
      ],
      "execution_count": 17,
      "outputs": []
    },
    {
      "cell_type": "code",
      "metadata": {
        "colab": {
          "base_uri": "https://localhost:8080/",
          "height": 206
        },
        "id": "4-0Rp1EkdWLI",
        "outputId": "b3a08578-16cf-45c0-dcca-0a2ae3e4c324"
      },
      "source": [
        "dataset.head()\n",
        "\n"
      ],
      "execution_count": 18,
      "outputs": [
        {
          "output_type": "execute_result",
          "data": {
            "text/html": [
              "<div>\n",
              "<style scoped>\n",
              "    .dataframe tbody tr th:only-of-type {\n",
              "        vertical-align: middle;\n",
              "    }\n",
              "\n",
              "    .dataframe tbody tr th {\n",
              "        vertical-align: top;\n",
              "    }\n",
              "\n",
              "    .dataframe thead th {\n",
              "        text-align: right;\n",
              "    }\n",
              "</style>\n",
              "<table border=\"1\" class=\"dataframe\">\n",
              "  <thead>\n",
              "    <tr style=\"text-align: right;\">\n",
              "      <th></th>\n",
              "      <th>year</th>\n",
              "      <th>month</th>\n",
              "      <th>passengers</th>\n",
              "      <th>day</th>\n",
              "      <th>combined</th>\n",
              "    </tr>\n",
              "  </thead>\n",
              "  <tbody>\n",
              "    <tr>\n",
              "      <th>0</th>\n",
              "      <td>1949</td>\n",
              "      <td>Jan</td>\n",
              "      <td>112</td>\n",
              "      <td>1</td>\n",
              "      <td>Jan 1 1949</td>\n",
              "    </tr>\n",
              "    <tr>\n",
              "      <th>1</th>\n",
              "      <td>1949</td>\n",
              "      <td>Feb</td>\n",
              "      <td>118</td>\n",
              "      <td>1</td>\n",
              "      <td>Feb 1 1949</td>\n",
              "    </tr>\n",
              "    <tr>\n",
              "      <th>2</th>\n",
              "      <td>1949</td>\n",
              "      <td>Mar</td>\n",
              "      <td>132</td>\n",
              "      <td>1</td>\n",
              "      <td>Mar 1 1949</td>\n",
              "    </tr>\n",
              "    <tr>\n",
              "      <th>3</th>\n",
              "      <td>1949</td>\n",
              "      <td>Apr</td>\n",
              "      <td>129</td>\n",
              "      <td>1</td>\n",
              "      <td>Apr 1 1949</td>\n",
              "    </tr>\n",
              "    <tr>\n",
              "      <th>4</th>\n",
              "      <td>1949</td>\n",
              "      <td>May</td>\n",
              "      <td>121</td>\n",
              "      <td>1</td>\n",
              "      <td>May 1 1949</td>\n",
              "    </tr>\n",
              "  </tbody>\n",
              "</table>\n",
              "</div>"
            ],
            "text/plain": [
              "   year month  passengers day    combined\n",
              "0  1949   Jan         112   1  Jan 1 1949\n",
              "1  1949   Feb         118   1  Feb 1 1949\n",
              "2  1949   Mar         132   1  Mar 1 1949\n",
              "3  1949   Apr         129   1  Apr 1 1949\n",
              "4  1949   May         121   1  May 1 1949"
            ]
          },
          "metadata": {
            "tags": []
          },
          "execution_count": 18
        }
      ]
    },
    {
      "cell_type": "code",
      "metadata": {
        "colab": {
          "base_uri": "https://localhost:8080/",
          "height": 206
        },
        "id": "lFIx3mR2d_G6",
        "outputId": "08a526c7-c4da-4cc2-eb65-88152380817e"
      },
      "source": [
        "dataset[\"combined\"] = dataset[\"combined\"].apply(lambda x: (datetime.datetime.strptime(x, '%b %d %Y')))\n",
        "dataset.head()"
      ],
      "execution_count": 19,
      "outputs": [
        {
          "output_type": "execute_result",
          "data": {
            "text/html": [
              "<div>\n",
              "<style scoped>\n",
              "    .dataframe tbody tr th:only-of-type {\n",
              "        vertical-align: middle;\n",
              "    }\n",
              "\n",
              "    .dataframe tbody tr th {\n",
              "        vertical-align: top;\n",
              "    }\n",
              "\n",
              "    .dataframe thead th {\n",
              "        text-align: right;\n",
              "    }\n",
              "</style>\n",
              "<table border=\"1\" class=\"dataframe\">\n",
              "  <thead>\n",
              "    <tr style=\"text-align: right;\">\n",
              "      <th></th>\n",
              "      <th>year</th>\n",
              "      <th>month</th>\n",
              "      <th>passengers</th>\n",
              "      <th>day</th>\n",
              "      <th>combined</th>\n",
              "    </tr>\n",
              "  </thead>\n",
              "  <tbody>\n",
              "    <tr>\n",
              "      <th>0</th>\n",
              "      <td>1949</td>\n",
              "      <td>Jan</td>\n",
              "      <td>112</td>\n",
              "      <td>1</td>\n",
              "      <td>1949-01-01</td>\n",
              "    </tr>\n",
              "    <tr>\n",
              "      <th>1</th>\n",
              "      <td>1949</td>\n",
              "      <td>Feb</td>\n",
              "      <td>118</td>\n",
              "      <td>1</td>\n",
              "      <td>1949-02-01</td>\n",
              "    </tr>\n",
              "    <tr>\n",
              "      <th>2</th>\n",
              "      <td>1949</td>\n",
              "      <td>Mar</td>\n",
              "      <td>132</td>\n",
              "      <td>1</td>\n",
              "      <td>1949-03-01</td>\n",
              "    </tr>\n",
              "    <tr>\n",
              "      <th>3</th>\n",
              "      <td>1949</td>\n",
              "      <td>Apr</td>\n",
              "      <td>129</td>\n",
              "      <td>1</td>\n",
              "      <td>1949-04-01</td>\n",
              "    </tr>\n",
              "    <tr>\n",
              "      <th>4</th>\n",
              "      <td>1949</td>\n",
              "      <td>May</td>\n",
              "      <td>121</td>\n",
              "      <td>1</td>\n",
              "      <td>1949-05-01</td>\n",
              "    </tr>\n",
              "  </tbody>\n",
              "</table>\n",
              "</div>"
            ],
            "text/plain": [
              "   year month  passengers day   combined\n",
              "0  1949   Jan         112   1 1949-01-01\n",
              "1  1949   Feb         118   1 1949-02-01\n",
              "2  1949   Mar         132   1 1949-03-01\n",
              "3  1949   Apr         129   1 1949-04-01\n",
              "4  1949   May         121   1 1949-05-01"
            ]
          },
          "metadata": {
            "tags": []
          },
          "execution_count": 19
        }
      ]
    },
    {
      "cell_type": "code",
      "metadata": {
        "colab": {
          "base_uri": "https://localhost:8080/"
        },
        "id": "-YmmWCu5inmi",
        "outputId": "1ca8e62d-b89d-46c2-eab2-291b2ce24dcd"
      },
      "source": [
        "df = dataset.groupby(\"combined\")[\"passengers\"].sum()\n",
        "df.head()"
      ],
      "execution_count": 20,
      "outputs": [
        {
          "output_type": "execute_result",
          "data": {
            "text/plain": [
              "combined\n",
              "1949-01-01    112\n",
              "1949-02-01    118\n",
              "1949-03-01    132\n",
              "1949-04-01    129\n",
              "1949-05-01    121\n",
              "Name: passengers, dtype: int64"
            ]
          },
          "metadata": {
            "tags": []
          },
          "execution_count": 20
        }
      ]
    },
    {
      "cell_type": "code",
      "metadata": {
        "colab": {
          "base_uri": "https://localhost:8080/"
        },
        "id": "ARBsXbgAnjk2",
        "outputId": "b90c7674-07f8-4fd3-9ab6-d4932d22775b"
      },
      "source": [
        "type(df)"
      ],
      "execution_count": 21,
      "outputs": [
        {
          "output_type": "execute_result",
          "data": {
            "text/plain": [
              "pandas.core.series.Series"
            ]
          },
          "metadata": {
            "tags": []
          },
          "execution_count": 21
        }
      ]
    },
    {
      "cell_type": "code",
      "metadata": {
        "colab": {
          "base_uri": "https://localhost:8080/"
        },
        "id": "bjgBUFba7Z7z",
        "outputId": "01e9ce1b-23d3-4896-d895-32a0dfdf5fec"
      },
      "source": [
        "df.shape"
      ],
      "execution_count": 22,
      "outputs": [
        {
          "output_type": "execute_result",
          "data": {
            "text/plain": [
              "(144,)"
            ]
          },
          "metadata": {
            "tags": []
          },
          "execution_count": 22
        }
      ]
    },
    {
      "cell_type": "code",
      "metadata": {
        "colab": {
          "base_uri": "https://localhost:8080/",
          "height": 279
        },
        "id": "AEeHcRLSjUzh",
        "outputId": "eeba012e-bd06-405c-b34e-89c19aa0552e"
      },
      "source": [
        "df.plot();\n"
      ],
      "execution_count": 23,
      "outputs": [
        {
          "output_type": "display_data",
          "data": {
            "image/png": "[encoded data removed]",
            "text/plain": [
              "<Figure size 432x288 with 1 Axes>"
            ]
          },
          "metadata": {
            "tags": [],
            "needs_background": "light"
          }
        }
      ]
    },
    {
      "cell_type": "code",
      "metadata": {
        "colab": {
          "base_uri": "https://localhost:8080/",
          "height": 279
        },
        "id": "iW25hBP8pCRx",
        "outputId": "8a7e2d45-ab5a-4372-c62a-5ca59bbf8627"
      },
      "source": [
        "\n",
        "sns.lineplot(data=df);"
      ],
      "execution_count": 24,
      "outputs": [
        {
          "output_type": "display_data",
          "data": {
            "image/png": "[encoded data removed]",
            "text/plain": [
              "<Figure size 432x288 with 1 Axes>"
            ]
          },
          "metadata": {
            "tags": [],
            "needs_background": "light"
          }
        }
      ]
    },
    {
      "cell_type": "code",
      "metadata": {
        "colab": {
          "base_uri": "https://localhost:8080/"
        },
        "id": "SdGLgZ28oBwe",
        "outputId": "c1d470d2-082b-4ce3-eacf-e27713eba9ec"
      },
      "source": [
        "split_num = 100\n",
        "\n",
        "X_train = df.iloc[:100]\n",
        "X_test = df.iloc[100:]\n",
        "\n",
        "print(X_train.shape, X_test.shape)"
      ],
      "execution_count": 34,
      "outputs": [
        {
          "output_type": "stream",
          "text": [
            "(100,) (44,)\n"
          ],
          "name": "stdout"
        }
      ]
    },
    {
      "cell_type": "code",
      "metadata": {
        "colab": {
          "base_uri": "https://localhost:8080/",
          "height": 528
        },
        "id": "4K49vjgxkWaJ",
        "outputId": "2f286bbf-0f5a-44c0-a301-dbeb210ba815"
      },
      "source": [
        "rcParams['figure.figsize'] = 18, 8\n",
        "decomposition = sm.tsa.seasonal_decompose(df, model='additive')\n",
        "fig = decomposition.plot()\n",
        "plt.show()\n"
      ],
      "execution_count": 26,
      "outputs": [
        {
          "output_type": "display_data",
          "data": {
            "image/png": "[encoded data removed]",
            "text/plain": [
              "<Figure size 1296x576 with 4 Axes>"
            ]
          },
          "metadata": {
            "tags": [],
            "needs_background": "light"
          }
        }
      ]
    },
    {
      "cell_type": "code",
      "metadata": {
        "colab": {
          "base_uri": "https://localhost:8080/"
        },
        "id": "O8YrzKSAli_g",
        "outputId": "168bb987-0ce4-4aea-9244-d43e0dc9d52e"
      },
      "source": [
        "model = pmdarima.auto_arima(X_train, start_p=1, start_q=1,\n",
        "                      test='adf',       # use adftest to find optimal 'd'\n",
        "                      max_p=5, max_q=5,  # maximum p and q\n",
        "                      m=1,              # frequency of series\n",
        "                      d=None,           # let model determine 'd'\n",
        "                      seasonal=False,   # No Seasonality\n",
        "                      start_P=0,\n",
        "                      D=0,\n",
        "                      trace=True,\n",
        "                      error_action='ignore',\n",
        "                      suppress_warnings=True,\n",
        "                      stepwise=True)\n",
        "\n",
        "print(model.summary())"
      ],
      "execution_count": 27,
      "outputs": [
        {
          "output_type": "stream",
          "text": [
            "Performing stepwise search to minimize aic\n",
            " ARIMA(1,0,1)(0,0,0)[0]             : AIC=919.019, Time=0.14 sec\n",
            " ARIMA(0,0,0)(0,0,0)[0]             : AIC=1373.846, Time=0.01 sec\n",
            " ARIMA(1,0,0)(0,0,0)[0]             : AIC=inf, Time=0.03 sec\n",
            " ARIMA(0,0,1)(0,0,0)[0]             : AIC=inf, Time=0.04 sec\n",
            " ARIMA(2,0,1)(0,0,0)[0]             : AIC=914.492, Time=0.09 sec\n",
            " ARIMA(2,0,0)(0,0,0)[0]             : AIC=inf, Time=0.05 sec\n",
            " ARIMA(3,0,1)(0,0,0)[0]             : AIC=916.371, Time=0.12 sec\n",
            " ARIMA(2,0,2)(0,0,0)[0]             : AIC=916.324, Time=0.11 sec\n",
            " ARIMA(1,0,2)(0,0,0)[0]             : AIC=915.159, Time=0.08 sec\n",
            " ARIMA(3,0,0)(0,0,0)[0]             : AIC=inf, Time=0.08 sec\n",
            " ARIMA(3,0,2)(0,0,0)[0]             : AIC=inf, Time=0.27 sec\n",
            " ARIMA(2,0,1)(0,0,0)[0] intercept   : AIC=912.375, Time=0.13 sec\n",
            " ARIMA(1,0,1)(0,0,0)[0] intercept   : AIC=915.850, Time=0.12 sec\n",
            " ARIMA(2,0,0)(0,0,0)[0] intercept   : AIC=918.705, Time=0.11 sec\n",
            " ARIMA(3,0,1)(0,0,0)[0] intercept   : AIC=913.987, Time=0.21 sec\n",
            " ARIMA(2,0,2)(0,0,0)[0] intercept   : AIC=913.913, Time=0.26 sec\n",
            " ARIMA(1,0,0)(0,0,0)[0] intercept   : AIC=923.022, Time=0.05 sec\n",
            " ARIMA(1,0,2)(0,0,0)[0] intercept   : AIC=913.858, Time=0.13 sec\n",
            " ARIMA(3,0,0)(0,0,0)[0] intercept   : AIC=917.526, Time=0.14 sec\n",
            " ARIMA(3,0,2)(0,0,0)[0] intercept   : AIC=inf, Time=0.31 sec\n",
            "\n",
            "Best model:  ARIMA(2,0,1)(0,0,0)[0] intercept\n",
            "Total fit time: 2.512 seconds\n",
            "                               SARIMAX Results                                \n",
            "==============================================================================\n",
            "Dep. Variable:                      y   No. Observations:                  100\n",
            "Model:               SARIMAX(2, 0, 1)   Log Likelihood                -451.187\n",
            "Date:                Thu, 01 Jul 2021   AIC                            912.375\n",
            "Time:                        02:44:12   BIC                            925.401\n",
            "Sample:                             0   HQIC                           917.647\n",
            "                                - 100                                         \n",
            "Covariance Type:                  opg                                         \n",
            "==============================================================================\n",
            "                 coef    std err          z      P>|z|      [0.025      0.975]\n",
            "------------------------------------------------------------------------------\n",
            "intercept     18.6208     12.983      1.434      0.151      -6.825      44.066\n",
            "ar.L1          0.3910      0.142      2.746      0.006       0.112       0.670\n",
            "ar.L2          0.5243      0.147      3.564      0.000       0.236       0.813\n",
            "ma.L1          0.8978      0.071     12.720      0.000       0.759       1.036\n",
            "sigma2       470.2408     82.439      5.704      0.000     308.663     631.819\n",
            "===================================================================================\n",
            "Ljung-Box (L1) (Q):                   0.02   Jarque-Bera (JB):                 3.32\n",
            "Prob(Q):                              0.88   Prob(JB):                         0.19\n",
            "Heteroskedasticity (H):               3.60   Skew:                             0.36\n",
            "Prob(H) (two-sided):                  0.00   Kurtosis:                         2.46\n",
            "===================================================================================\n",
            "\n",
            "Warnings:\n",
            "[1] Covariance matrix calculated using the outer product of gradients (complex-step).\n"
          ],
          "name": "stdout"
        }
      ]
    },
    {
      "cell_type": "code",
      "metadata": {
        "id": "do933A259F5v"
      },
      "source": [
        ""
      ],
      "execution_count": 30,
      "outputs": []
    },
    {
      "cell_type": "code",
      "metadata": {
        "colab": {
          "base_uri": "https://localhost:8080/"
        },
        "id": "PpLH4i2Yy7CU",
        "outputId": "73f65afc-862b-41ab-b2fc-d6069af43a15"
      },
      "source": [
        "model = sarimax.SARIMAX(X_train, order=(2, 0, 1), seasonal_order=(0,0,0,0))\n",
        "\n",
        "results = model.fit(start_params=[0, 0, 0, 1], display=True);"
      ],
      "execution_count": 35,
      "outputs": [
        {
          "output_type": "stream",
          "text": [
            "/usr/local/lib/python3.7/dist-packages/statsmodels/tsa/base/tsa_model.py:527: ValueWarning: No frequency information was provided, so inferred frequency MS will be used.\n",
            "  % freq, ValueWarning)\n",
            "/usr/local/lib/python3.7/dist-packages/statsmodels/tsa/base/tsa_model.py:527: ValueWarning: No frequency information was provided, so inferred frequency MS will be used.\n",
            "  % freq, ValueWarning)\n"
          ],
          "name": "stderr"
        }
      ]
    },
    {
      "cell_type": "code",
      "metadata": {
        "colab": {
          "base_uri": "https://localhost:8080/",
          "height": 320
        },
        "id": "rC9eydGB0KGQ",
        "outputId": "e253f16b-2e8c-4f28-e7f3-e4b2e91aca0c"
      },
      "source": [
        "sarimax_prediction = results.predict(\n",
        "    start=X_test.index[0], end=X_test.index[-1], dynamic=False)\n",
        "plt.figure(figsize=(10, 5))\n",
        "l1, = plt.plot(df, label='Observation')\n",
        "l2, = plt.plot(sarimax_prediction, label='ARIMA')\n",
        "plt.legend(handles=[l1, l2])\n",
        "plt.savefig('SARIMAX prediction', bbox_inches='tight', transparent=False)"
      ],
      "execution_count": 33,
      "outputs": [
        {
          "output_type": "display_data",
          "data": {
            "image/png": "[encoded data removed]",
            "text/plain": [
              "<Figure size 720x360 with 1 Axes>"
            ]
          },
          "metadata": {
            "tags": [],
            "needs_background": "light"
          }
        }
      ]
    },
    {
      "cell_type": "code",
      "metadata": {
        "colab": {
          "base_uri": "https://localhost:8080/"
        },
        "id": "naDxxKrt1rgq",
        "outputId": "3c25833d-e889-49a3-d2eb-74f34f6563ae"
      },
      "source": [
        "print(X_test.index[0],df[100:].index[-1])"
      ],
      "execution_count": null,
      "outputs": [
        {
          "output_type": "stream",
          "text": [
            "1957-05-01 00:00:00 1960-12-01 00:00:00\n"
          ],
          "name": "stdout"
        }
      ]
    },
    {
      "cell_type": "code",
      "metadata": {
        "id": "6xxEHGlO16jw"
      },
      "source": [
        ""
      ],
      "execution_count": null,
      "outputs": []
    }
  ]
}