{
  "nbformat": 4,
  "nbformat_minor": 0,
  "metadata": {
    "colab": {
      "name": "Untitled3.ipynb",
      "provenance": [],
      "authorship_tag": "ABX9TyMa/lDGYxsLhZac5mZNbs9j",
      "include_colab_link": true
    },
    "kernelspec": {
      "name": "python3",
      "display_name": "Python 3"
    }
  },
  "cells": [
    {
      "cell_type": "markdown",
      "metadata": {
        "id": "view-in-github",
        "colab_type": "text"
      },
      "source": [
        "<a href=\"https://colab.research.google.com/github/sidchaubey/Pratice_Python/blob/master/Untitled3.ipynb\" target=\"_parent\"><img src=\"https://colab.research.google.com/assets/colab-badge.svg\" alt=\"Open In Colab\"/></a>"
      ]
    },
    {
      "cell_type": "code",
      "metadata": {
        "id": "T6c8QaWlNlxg",
        "colab_type": "code",
        "colab": {
          "base_uri": "https://localhost:8080/",
          "height": 139
        },
        "outputId": "085f3997-9768-43f6-e87c-44b3d532c70b"
      },
      "source": [
        "import numpy as np\n",
        "# Creating a numpy using array\n",
        "a = np.array([1,2,3,4])\n",
        "print(a)\n",
        "print(\"Type of a: \",a.dtype)\n",
        "print(\"Dimension of a: \",a.ndim)\n",
        "print(\"Shape of a: \",a.shape)\n",
        "print(\"No of bytes used: \",a.nbytes)\n",
        "print(\"Size: \",a.size)\n",
        "print(np.zeros_like(a))"
      ],
      "execution_count": 4,
      "outputs": [
        {
          "output_type": "stream",
          "text": [
            "[1 2 3 4]\n",
            "Type of a:  int64\n",
            "Dimension of a:  1\n",
            "Shape of a:  (4,)\n",
            "No of bytes used:  32\n",
            "Size:  4\n",
            "[0 0 0 0]\n"
          ],
          "name": "stdout"
        }
      ]
    },
    {
      "cell_type": "code",
      "metadata": {
        "id": "eX6UOqJwOd-t",
        "colab_type": "code",
        "colab": {
          "base_uri": "https://localhost:8080/",
          "height": 35
        },
        "outputId": "4e3a3071-1103-42af-9c23-16c2039bc56c"
      },
      "source": [
        "# Which of it is faster list or array\n",
        "a = list(range(100))\n",
        "%timeit [i**2 for i in a]\n"
      ],
      "execution_count": 5,
      "outputs": [
        {
          "output_type": "stream",
          "text": [
            "10000 loops, best of 3: 23.5 µs per loop\n"
          ],
          "name": "stdout"
        }
      ]
    },
    {
      "cell_type": "code",
      "metadata": {
        "id": "3nZ6pcpEPUox",
        "colab_type": "code",
        "colab": {
          "base_uri": "https://localhost:8080/",
          "height": 52
        },
        "outputId": "75bf0b4d-c139-430b-97a4-10aae4e1804c"
      },
      "source": [
        "a = np.arange(100)\n",
        "%timeit a**2"
      ],
      "execution_count": 6,
      "outputs": [
        {
          "output_type": "stream",
          "text": [
            "The slowest run took 48.45 times longer than the fastest. This could mean that an intermediate result is being cached.\n",
            "1000000 loops, best of 3: 837 ns per loop\n"
          ],
          "name": "stdout"
        }
      ]
    },
    {
      "cell_type": "code",
      "metadata": {
        "id": "30jx4FUoPc9q",
        "colab_type": "code",
        "colab": {
          "base_uri": "https://localhost:8080/",
          "height": 35
        },
        "outputId": "608a0c10-8452-4799-991d-e07b53c8de2c"
      },
      "source": [
        "# Conclusion:\n",
        "\"\"\"Numpy array is approx 200 times faster than normal list\"\"\""
      ],
      "execution_count": 7,
      "outputs": [
        {
          "output_type": "execute_result",
          "data": {
            "text/plain": [
              "'Numpy array is approx 200 times faster than normal list'"
            ]
          },
          "metadata": {
            "tags": []
          },
          "execution_count": 7
        }
      ]
    },
    {
      "cell_type": "code",
      "metadata": {
        "id": "MnI-Fz-EPt37",
        "colab_type": "code",
        "colab": {
          "base_uri": "https://localhost:8080/",
          "height": 312
        },
        "outputId": "a2fbc3a1-7f24-47f3-c170-963228989658"
      },
      "source": [
        "# Ways to create a numpy array\n",
        "a = np.array([1,2,3])\n",
        "print(type(a))\n",
        "b = np.arange(10)\n",
        "print(type(b))\n",
        "c = np.linspace(0,10,100)\n",
        "print(type(c))\n",
        "d = np.logspace(start=1,stop=10,num=50,endpoint=True,base=10.0)\n",
        "print(d)\n",
        "print(type(d))"
      ],
      "execution_count": 12,
      "outputs": [
        {
          "output_type": "stream",
          "text": [
            "<class 'numpy.ndarray'>\n",
            "<class 'numpy.ndarray'>\n",
            "<class 'numpy.ndarray'>\n",
            "[1.00000000e+01 1.52641797e+01 2.32995181e+01 3.55648031e+01\n",
            " 5.42867544e+01 8.28642773e+01 1.26485522e+02 1.93069773e+02\n",
            " 2.94705170e+02 4.49843267e+02 6.86648845e+02 1.04811313e+03\n",
            " 1.59985872e+03 2.44205309e+03 3.72759372e+03 5.68986603e+03\n",
            " 8.68511374e+03 1.32571137e+04 2.02358965e+04 3.08884360e+04\n",
            " 4.71486636e+04 7.19685673e+04 1.09854114e+05 1.67683294e+05\n",
            " 2.55954792e+05 3.90693994e+05 5.96362332e+05 9.10298178e+05\n",
            " 1.38949549e+06 2.12095089e+06 3.23745754e+06 4.94171336e+06\n",
            " 7.54312006e+06 1.15139540e+07 1.75751062e+07 2.68269580e+07\n",
            " 4.09491506e+07 6.25055193e+07 9.54095476e+07 1.45634848e+08\n",
            " 2.22299648e+08 3.39322177e+08 5.17947468e+08 7.90604321e+08\n",
            " 1.20679264e+09 1.84206997e+09 2.81176870e+09 4.29193426e+09\n",
            " 6.55128557e+09 1.00000000e+10]\n",
            "<class 'numpy.ndarray'>\n"
          ],
          "name": "stdout"
        }
      ]
    },
    {
      "cell_type": "code",
      "metadata": {
        "id": "tRqiRzdTP7XS",
        "colab_type": "code",
        "colab": {
          "base_uri": "https://localhost:8080/",
          "height": 69
        },
        "outputId": "049685cb-ee21-4d01-d369-39393603bc97"
      },
      "source": [
        "# Creating 2-D graph\n",
        "a = np.array([[1,2],[3,4]])\n",
        "print(a)\n",
        "print(a.ndim)"
      ],
      "execution_count": 13,
      "outputs": [
        {
          "output_type": "stream",
          "text": [
            "[[1 2]\n",
            " [3 4]]\n",
            "2\n"
          ],
          "name": "stdout"
        }
      ]
    },
    {
      "cell_type": "code",
      "metadata": {
        "id": "GoXav2H0ViEG",
        "colab_type": "code",
        "colab": {
          "base_uri": "https://localhost:8080/",
          "height": 69
        },
        "outputId": "84bccbc7-271f-4250-b4c3-151dd5cbaf2c"
      },
      "source": [
        "b = np.arange(9)\n",
        "b.shape = (3,3)\n",
        "print(b)"
      ],
      "execution_count": 14,
      "outputs": [
        {
          "output_type": "stream",
          "text": [
            "[[0 1 2]\n",
            " [3 4 5]\n",
            " [6 7 8]]\n"
          ],
          "name": "stdout"
        }
      ]
    },
    {
      "cell_type": "code",
      "metadata": {
        "id": "8VdpME6CV8Ur",
        "colab_type": "code",
        "colab": {
          "base_uri": "https://localhost:8080/",
          "height": 69
        },
        "outputId": "9ad56010-dc7c-4b31-c849-99b97d2773b8"
      },
      "source": [
        "b = np.arange(9)\n",
        "b = b.reshape(3,3)\n",
        "print(b)"
      ],
      "execution_count": 15,
      "outputs": [
        {
          "output_type": "stream",
          "text": [
            "[[0 1 2]\n",
            " [3 4 5]\n",
            " [6 7 8]]\n"
          ],
          "name": "stdout"
        }
      ]
    },
    {
      "cell_type": "code",
      "metadata": {
        "id": "2_Jo1Q-IWDof",
        "colab_type": "code",
        "colab": {
          "base_uri": "https://localhost:8080/",
          "height": 121
        },
        "outputId": "69220d94-632e-4d96-8c60-a83d31930117"
      },
      "source": [
        "# Creating a matrix containing only 1\n",
        "a = np.ones((3,3))\n",
        "print(a)\n",
        "b = np.ones((3,3),dtype=\"int\")\n",
        "print(b)"
      ],
      "execution_count": 17,
      "outputs": [
        {
          "output_type": "stream",
          "text": [
            "[[1. 1. 1.]\n",
            " [1. 1. 1.]\n",
            " [1. 1. 1.]]\n",
            "[[1 1 1]\n",
            " [1 1 1]\n",
            " [1 1 1]]\n"
          ],
          "name": "stdout"
        }
      ]
    },
    {
      "cell_type": "code",
      "metadata": {
        "id": "d652ajFpW_Jc",
        "colab_type": "code",
        "colab": {
          "base_uri": "https://localhost:8080/",
          "height": 121
        },
        "outputId": "70237867-c11f-4ec1-fb37-aeb78f9d9f67"
      },
      "source": [
        "# Creating a matrix containing only 0\n",
        "a = np.zeros((3,3))\n",
        "print(a)\n",
        "b = np.zeros((3,3),dtype=\"int\")\n",
        "print(b)"
      ],
      "execution_count": 18,
      "outputs": [
        {
          "output_type": "stream",
          "text": [
            "[[0. 0. 0.]\n",
            " [0. 0. 0.]\n",
            " [0. 0. 0.]]\n",
            "[[0 0 0]\n",
            " [0 0 0]\n",
            " [0 0 0]]\n"
          ],
          "name": "stdout"
        }
      ]
    },
    {
      "cell_type": "code",
      "metadata": {
        "id": "SgMtBNVbXYDu",
        "colab_type": "code",
        "colab": {
          "base_uri": "https://localhost:8080/",
          "height": 121
        },
        "outputId": "94faa42f-a92e-40ac-97e2-aec2eb1e2dd4"
      },
      "source": [
        "# Creating a matrix containing only any value\n",
        "a = np.full((3,3),4.0)\n",
        "print(a)\n",
        "b = np.full((3,3),2,dtype=\"float\")\n",
        "print(b)"
      ],
      "execution_count": 21,
      "outputs": [
        {
          "output_type": "stream",
          "text": [
            "[[4. 4. 4.]\n",
            " [4. 4. 4.]\n",
            " [4. 4. 4.]]\n",
            "[[2. 2. 2.]\n",
            " [2. 2. 2.]\n",
            " [2. 2. 2.]]\n"
          ],
          "name": "stdout"
        }
      ]
    },
    {
      "cell_type": "code",
      "metadata": {
        "id": "PkFBpJ0WXiXB",
        "colab_type": "code",
        "colab": {
          "base_uri": "https://localhost:8080/",
          "height": 69
        },
        "outputId": "18dce644-a743-418c-904e-ddc839f399d7"
      },
      "source": [
        "# Creating a identity matrix\n",
        "a = np.eye(3,3)\n",
        "print(a)"
      ],
      "execution_count": 23,
      "outputs": [
        {
          "output_type": "stream",
          "text": [
            "[[1. 0. 0.]\n",
            " [0. 1. 0.]\n",
            " [0. 0. 1.]]\n"
          ],
          "name": "stdout"
        }
      ]
    },
    {
      "cell_type": "code",
      "metadata": {
        "id": "ERWLzbsvX1V3",
        "colab_type": "code",
        "colab": {
          "base_uri": "https://localhost:8080/",
          "height": 87
        },
        "outputId": "9af40a25-5072-4691-9500-fcc273ec983b"
      },
      "source": [
        "# Creating a matrix using diagonal\n",
        "a = np.diag([1,2,3])\n",
        "print(a)\n",
        "b = np.diagonal(a)\n",
        "print(b)"
      ],
      "execution_count": 25,
      "outputs": [
        {
          "output_type": "stream",
          "text": [
            "[[1 0 0]\n",
            " [0 2 0]\n",
            " [0 0 3]]\n",
            "[1 2 3]\n"
          ],
          "name": "stdout"
        }
      ]
    },
    {
      "cell_type": "code",
      "metadata": {
        "id": "71x85h3gYcsi",
        "colab_type": "code",
        "colab": {
          "base_uri": "https://localhost:8080/",
          "height": 208
        },
        "outputId": "ff6f04ab-1729-430a-ffc2-82a5a5f1c459"
      },
      "source": [
        "# Creating a numpy array using randim values\n",
        "a = np.random.rand(10)# Uniform\n",
        "print(a)\n",
        "b = np.random.random((3,3))\n",
        "print(b)\n",
        "c = np.random.randn(3,3)# Gaussian or Normal \n",
        "print(c)\n",
        "d = np.random.randint(1,10,100)\n",
        "print(\"d: \",d)"
      ],
      "execution_count": 30,
      "outputs": [
        {
          "output_type": "stream",
          "text": [
            "[0.33750384 0.79979404 0.08705191 0.83488787 0.62325772 0.29756009\n",
            " 0.82408449 0.18809519 0.19315901 0.37380849]\n",
            "[[0.07212166 0.63176627 0.93714174]\n",
            " [0.68433971 0.28625602 0.28764958]\n",
            " [0.98012504 0.8521183  0.18530618]]\n",
            "[[ 0.12110243  1.59898268 -1.39575069]\n",
            " [ 0.8138437   1.01124099 -0.50394141]\n",
            " [ 0.01875272 -0.84976744  0.75030354]]\n",
            "d:  [4 9 1 3 3 3 8 4 1 8 3 2 9 4 6 4 8 2 5 4 1 3 7 5 4 8 8 8 4 2 5 9 3 6 1 7 8\n",
            " 1 7 1 9 4 6 9 5 1 6 3 6 3 7 2 5 2 7 9 6 1 7 9 5 6 7 2 4 9 8 6 1 4 1 1 5 4\n",
            " 4 3 6 4 6 7 6 1 5 3 1 6 4 5 5 5 3 9 4 6 3 1 2 6 2 5]\n"
          ],
          "name": "stdout"
        }
      ]
    },
    {
      "cell_type": "code",
      "metadata": {
        "id": "D4nnJUAjY4JI",
        "colab_type": "code",
        "colab": {}
      },
      "source": [
        ""
      ],
      "execution_count": 0,
      "outputs": []
    }
  ]
}