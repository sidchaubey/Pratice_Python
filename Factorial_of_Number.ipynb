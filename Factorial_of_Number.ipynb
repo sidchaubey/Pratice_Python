{
  "nbformat": 4,
  "nbformat_minor": 0,
  "metadata": {
    "colab": {
      "name": "Factorial of Number",
      "provenance": [],
      "authorship_tag": "ABX9TyOqnRusITyl+XUz04PZc3R0",
      "include_colab_link": true
    },
    "kernelspec": {
      "name": "python3",
      "display_name": "Python 3"
    }
  },
  "cells": [
    {
      "cell_type": "markdown",
      "metadata": {
        "id": "view-in-github",
        "colab_type": "text"
      },
      "source": [
        "<a href=\"https://colab.research.google.com/github/sidchaubey/Pratice_Python/blob/master/Factorial_of_Number.ipynb\" target=\"_parent\"><img src=\"https://colab.research.google.com/assets/colab-badge.svg\" alt=\"Open In Colab\"/></a>"
      ]
    },
    {
      "cell_type": "code",
      "metadata": {
        "id": "gpa2sw5W0YjT",
        "colab_type": "code",
        "colab": {
          "base_uri": "https://localhost:8080/",
          "height": 52
        },
        "outputId": "7794aab4-7560-4b83-8be6-43b4828a12e6"
      },
      "source": [
        "# Finding Factorial\n",
        "number = int(input(\"Enter the number whose factorial is to be found: \"))\n",
        "current = 1 #Initialize the value of variable to 1 \n",
        "product = 1 # Initialize the product variable to 1 which will hold product value\n",
        "while current<=number:\n",
        "  product *= current\n",
        "  current += 1\n",
        "print(product)"
      ],
      "execution_count": 11,
      "outputs": [
        {
          "output_type": "stream",
          "text": [
            "Enter the number whose factorial is to be found: 10\n",
            "3628800\n"
          ],
          "name": "stdout"
        }
      ]
    },
    {
      "cell_type": "code",
      "metadata": {
        "id": "jEkZjjla1NEi",
        "colab_type": "code",
        "colab": {
          "base_uri": "https://localhost:8080/",
          "height": 52
        },
        "outputId": "7de30197-ba39-4a4b-971a-f9704ac61031"
      },
      "source": [
        "# Finding sum of all the the number between range 1 to number\n",
        "number = int(input(\"Enter the number till which sum is to be found: \"))\n",
        "current = 1 #Initialize the value of variable to 1 \n",
        "sum_ = 0 # Initialize the product variable to 1 which will hold product value\n",
        "while current<=number:\n",
        "  sum_ += current\n",
        "  current += 1\n",
        "print(sum_)"
      ],
      "execution_count": 12,
      "outputs": [
        {
          "output_type": "stream",
          "text": [
            "Enter the number till which sum is to be found: 10\n",
            "55\n"
          ],
          "name": "stdout"
        }
      ]
    },
    {
      "cell_type": "code",
      "metadata": {
        "id": "_2oe4QYZ4meH",
        "colab_type": "code",
        "colab": {
          "base_uri": "https://localhost:8080/",
          "height": 35
        },
        "outputId": "a69ff028-6efc-448a-8d49-2f511c1114b6"
      },
      "source": [
        "# Sum from start to end with step size\n",
        "start_num = 5\n",
        "end_num = 100\n",
        "count_by = 2\n",
        "\n",
        "break_num = start_num\n",
        "while break_num < end_num:\n",
        "    break_num += count_by\n",
        "\n",
        "print(break_num)"
      ],
      "execution_count": 13,
      "outputs": [
        {
          "output_type": "stream",
          "text": [
            "101\n"
          ],
          "name": "stdout"
        }
      ]
    },
    {
      "cell_type": "code",
      "metadata": {
        "id": "4v9COg6D5dLp",
        "colab_type": "code",
        "colab": {
          "base_uri": "https://localhost:8080/",
          "height": 35
        },
        "outputId": "9ffc5e8a-d346-4559-9b9e-a7fbf65503b9"
      },
      "source": [
        "# Nearest square\n",
        "limit = 40\n",
        "\n",
        "num = 0\n",
        "while (num+1)**2 < limit:\n",
        "    num += 1\n",
        "nearest_square = num**2\n",
        "\n",
        "print(nearest_square)"
      ],
      "execution_count": 14,
      "outputs": [
        {
          "output_type": "stream",
          "text": [
            "36\n"
          ],
          "name": "stdout"
        }
      ]
    },
    {
      "cell_type": "code",
      "metadata": {
        "id": "ErUReoh95qda",
        "colab_type": "code",
        "colab": {}
      },
      "source": [
        ""
      ],
      "execution_count": 0,
      "outputs": []
    },
    {
      "cell_type": "code",
      "metadata": {
        "id": "A7UHOcZmB1Aq",
        "colab_type": "code",
        "colab": {}
      },
      "source": [
        ""
      ],
      "execution_count": 0,
      "outputs": []
    }
  ]
}