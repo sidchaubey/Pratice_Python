{
  "nbformat": 4,
  "nbformat_minor": 0,
  "metadata": {
    "colab": {
      "name": "Factorial of Number",
      "provenance": [],
      "authorship_tag": "ABX9TyNgFfaoNFqMYBuK5kYzYjJi",
      "include_colab_link": true
    },
    "kernelspec": {
      "name": "python3",
      "display_name": "Python 3"
    }
  },
  "cells": [
    {
      "cell_type": "markdown",
      "metadata": {
        "id": "view-in-github",
        "colab_type": "text"
      },
      "source": [
        "<a href=\"https://colab.research.google.com/github/sidchaubey/Pratice_Python/blob/master/Factorial_of_Number.ipynb\" target=\"_parent\"><img src=\"https://colab.research.google.com/assets/colab-badge.svg\" alt=\"Open In Colab\"/></a>"
      ]
    },
    {
      "cell_type": "code",
      "metadata": {
        "id": "gpa2sw5W0YjT",
        "colab_type": "code",
        "colab": {
          "base_uri": "https://localhost:8080/",
          "height": 52
        },
        "outputId": "d940e5ef-77bc-483b-c4e1-b17f78c329fc"
      },
      "source": [
        "# Finding Factorial\n",
        "number = int(input(\"Enter the number whose factorial is to be found: \"))\n",
        "current = 1 #Initialize the value of variable to 1 \n",
        "product = 1 # Initialize the product variable to 1 which will hold product value\n",
        "while current<=number:\n",
        "  product *= current\n",
        "  current += 1\n",
        "print(product)"
      ],
      "execution_count": 2,
      "outputs": [
        {
          "output_type": "stream",
          "text": [
            "Enter the number whose factorial is to be found: 10\n",
            "3628800\n"
          ],
          "name": "stdout"
        }
      ]
    },
    {
      "cell_type": "code",
      "metadata": {
        "id": "jEkZjjla1NEi",
        "colab_type": "code",
        "colab": {
          "base_uri": "https://localhost:8080/",
          "height": 52
        },
        "outputId": "9688c57a-38d9-4c2a-c561-9521936c3f10"
      },
      "source": [
        "# Finding sum of all the the number between range 1 to number\n",
        "number = int(input(\"Enter the number till which sum is to be found: \"))\n",
        "current = 1 #Initialize the value of variable to 1 \n",
        "sum_ = 0 # Initialize the product variable to 1 which will hold product value\n",
        "while current<=number:\n",
        "  sum_ += current\n",
        "  current += 1\n",
        "print(sum_)"
      ],
      "execution_count": 5,
      "outputs": [
        {
          "output_type": "stream",
          "text": [
            "Enter the number till which sum is to be found: 4\n",
            "10\n"
          ],
          "name": "stdout"
        }
      ]
    },
    {
      "cell_type": "code",
      "metadata": {
        "id": "_2oe4QYZ4meH",
        "colab_type": "code",
        "colab": {}
      },
      "source": [
        ""
      ],
      "execution_count": 0,
      "outputs": []
    }
  ]
}